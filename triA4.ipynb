{
 "cells": [
  {
   "cell_type": "markdown",
   "id": "3a43eac3",
   "metadata": {},
   "source": [
    "# wpp to triple all the numbers of given list of integers. use python map\n",
    "# sample output : [1,2,3,4,5,6,7]\n",
    "# Triple of list number = [ 3,6,9,12,15,18,21]"
   ]
  },
  {
   "cell_type": "code",
   "execution_count": 6,
   "id": "a8493ecc",
   "metadata": {},
   "outputs": [
    {
     "name": "stdout",
     "output_type": "stream",
     "text": [
      "[3, 6, 9, 12, 15, 18, 21]\n"
     ]
    }
   ],
   "source": [
    "print(list(map(lambda x : x*3,[1,2,3,4,5,6,7])))"
   ]
  },
  {
   "cell_type": "code",
   "execution_count": null,
   "id": "1eaf8a1d",
   "metadata": {},
   "outputs": [],
   "source": []
  }
 ],
 "metadata": {
  "kernelspec": {
   "display_name": "Python 3 (ipykernel)",
   "language": "python",
   "name": "python3"
  },
  "language_info": {
   "codemirror_mode": {
    "name": "ipython",
    "version": 3
   },
   "file_extension": ".py",
   "mimetype": "text/x-python",
   "name": "python",
   "nbconvert_exporter": "python",
   "pygments_lexer": "ipython3",
   "version": "3.10.0"
  }
 },
 "nbformat": 4,
 "nbformat_minor": 5
}
